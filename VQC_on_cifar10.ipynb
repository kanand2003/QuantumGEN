{
  "nbformat": 4,
  "nbformat_minor": 0,
  "metadata": {
    "colab": {
      "provenance": []
    },
    "kernelspec": {
      "name": "python3",
      "display_name": "Python 3"
    },
    "language_info": {
      "name": "python"
    }
  },
  "cells": [
    {
      "cell_type": "markdown",
      "source": [
        "Here we are using VQC(variational Quantum Classifier) along as a QML model for binary classification of image dataset. For the hyperparameter optimisation genetic programming using mutation is used."
      ],
      "metadata": {
        "id": "TPWOlY9rFJGz"
      }
    },
    {
      "cell_type": "markdown",
      "source": [
        "Importing Pennylane"
      ],
      "metadata": {
        "id": "-dQdz2i5FX5_"
      }
    },
    {
      "cell_type": "code",
      "execution_count": null,
      "metadata": {
        "colab": {
          "base_uri": "https://localhost:8080/"
        },
        "id": "ylOQzude0UVN",
        "outputId": "c818b027-3385-4fd3-e48f-2162120e40b5"
      },
      "outputs": [
        {
          "output_type": "stream",
          "name": "stdout",
          "text": [
            "Collecting pennylane\n",
            "  Downloading PennyLane-0.32.0-py3-none-any.whl (1.5 MB)\n",
            "\u001b[2K     \u001b[90m━━━━━━━━━━━━━━━━━━━━━━━━━━━━━━━━━━━━━━━━\u001b[0m \u001b[32m1.5/1.5 MB\u001b[0m \u001b[31m17.8 MB/s\u001b[0m eta \u001b[36m0:00:00\u001b[0m\n",
            "\u001b[?25hRequirement already satisfied: numpy<1.24 in /usr/local/lib/python3.10/dist-packages (from pennylane) (1.23.5)\n",
            "Requirement already satisfied: scipy in /usr/local/lib/python3.10/dist-packages (from pennylane) (1.11.3)\n",
            "Requirement already satisfied: networkx in /usr/local/lib/python3.10/dist-packages (from pennylane) (3.2)\n",
            "Collecting rustworkx (from pennylane)\n",
            "  Downloading rustworkx-0.13.2-cp310-cp310-manylinux_2_17_x86_64.manylinux2014_x86_64.whl (2.0 MB)\n",
            "\u001b[2K     \u001b[90m━━━━━━━━━━━━━━━━━━━━━━━━━━━━━━━━━━━━━━━━\u001b[0m \u001b[32m2.0/2.0 MB\u001b[0m \u001b[31m72.4 MB/s\u001b[0m eta \u001b[36m0:00:00\u001b[0m\n",
            "\u001b[?25hCollecting autograd<=1.5 (from pennylane)\n",
            "  Downloading autograd-1.5-py3-none-any.whl (48 kB)\n",
            "\u001b[2K     \u001b[90m━━━━━━━━━━━━━━━━━━━━━━━━━━━━━━━━━━━━━━━━\u001b[0m \u001b[32m48.9/48.9 kB\u001b[0m \u001b[31m4.8 MB/s\u001b[0m eta \u001b[36m0:00:00\u001b[0m\n",
            "\u001b[?25hRequirement already satisfied: toml in /usr/local/lib/python3.10/dist-packages (from pennylane) (0.10.2)\n",
            "Requirement already satisfied: appdirs in /usr/local/lib/python3.10/dist-packages (from pennylane) (1.4.4)\n",
            "Collecting semantic-version>=2.7 (from pennylane)\n",
            "  Downloading semantic_version-2.10.0-py2.py3-none-any.whl (15 kB)\n",
            "Collecting autoray>=0.3.1 (from pennylane)\n",
            "  Downloading autoray-0.6.7-py3-none-any.whl (49 kB)\n",
            "\u001b[2K     \u001b[90m━━━━━━━━━━━━━━━━━━━━━━━━━━━━━━━━━━━━━━━━\u001b[0m \u001b[32m49.9/49.9 kB\u001b[0m \u001b[31m5.3 MB/s\u001b[0m eta \u001b[36m0:00:00\u001b[0m\n",
            "\u001b[?25hRequirement already satisfied: cachetools in /usr/local/lib/python3.10/dist-packages (from pennylane) (5.3.2)\n",
            "Collecting pennylane-lightning>=0.32 (from pennylane)\n",
            "  Downloading PennyLane_Lightning-0.32.0-cp310-cp310-manylinux_2_17_x86_64.manylinux2014_x86_64.whl (13.6 MB)\n",
            "\u001b[2K     \u001b[90m━━━━━━━━━━━━━━━━━━━━━━━━━━━━━━━━━━━━━━━━\u001b[0m \u001b[32m13.6/13.6 MB\u001b[0m \u001b[31m76.9 MB/s\u001b[0m eta \u001b[36m0:00:00\u001b[0m\n",
            "\u001b[?25hRequirement already satisfied: requests in /usr/local/lib/python3.10/dist-packages (from pennylane) (2.31.0)\n",
            "Requirement already satisfied: typing-extensions in /usr/local/lib/python3.10/dist-packages (from pennylane) (4.5.0)\n",
            "Requirement already satisfied: future>=0.15.2 in /usr/local/lib/python3.10/dist-packages (from autograd<=1.5->pennylane) (0.18.3)\n",
            "Requirement already satisfied: charset-normalizer<4,>=2 in /usr/local/lib/python3.10/dist-packages (from requests->pennylane) (3.3.1)\n",
            "Requirement already satisfied: idna<4,>=2.5 in /usr/local/lib/python3.10/dist-packages (from requests->pennylane) (3.4)\n",
            "Requirement already satisfied: urllib3<3,>=1.21.1 in /usr/local/lib/python3.10/dist-packages (from requests->pennylane) (2.0.7)\n",
            "Requirement already satisfied: certifi>=2017.4.17 in /usr/local/lib/python3.10/dist-packages (from requests->pennylane) (2023.7.22)\n",
            "Installing collected packages: semantic-version, rustworkx, autoray, autograd, pennylane-lightning, pennylane\n",
            "  Attempting uninstall: autograd\n",
            "    Found existing installation: autograd 1.6.2\n",
            "    Uninstalling autograd-1.6.2:\n",
            "      Successfully uninstalled autograd-1.6.2\n",
            "Successfully installed autograd-1.5 autoray-0.6.7 pennylane-0.32.0 pennylane-lightning-0.32.0 rustworkx-0.13.2 semantic-version-2.10.0\n"
          ]
        }
      ],
      "source": [
        "!pip install pennylane"
      ]
    },
    {
      "cell_type": "code",
      "source": [
        "import numpy as np\n",
        "from sklearn.datasets import load_iris\n",
        "from sklearn.utils import shuffle\n",
        "from sklearn.model_selection import train_test_split\n",
        "from sklearn.metrics import accuracy_score\n",
        "import pennylane as qml\n",
        "import matplotlib.pyplot as plt\n",
        "from keras.datasets import cifar10\n",
        "from sklearn.decomposition import PCA\n",
        "from sklearn.preprocessing import MinMaxScaler"
      ],
      "metadata": {
        "id": "yVk1Qi0U0XJu"
      },
      "execution_count": null,
      "outputs": []
    },
    {
      "cell_type": "markdown",
      "source": [
        "Importing Cifar10 dataset"
      ],
      "metadata": {
        "id": "kCVcm34mFaa3"
      }
    },
    {
      "cell_type": "code",
      "source": [
        "# Load the CIFAR-10 dataset using Keras\n",
        "(X_train, y_train), (X_test, y_test) = cifar10.load_data()\n",
        "\n",
        "# Flatten the CIFAR-10 images (32x32x3) into a feature vector\n",
        "X_train = X_train.reshape(X_train.shape[0], -1)\n",
        "X_test = X_test.reshape(X_test.shape[0], -1)\n",
        "\n",
        "# Select only the first two classes (e.g., 'airplane' and 'automobile')\n",
        "class_indices = (y_train.squeeze() == 0) | (y_train.squeeze() == 1)\n",
        "X_train = X_train[class_indices]\n",
        "y_train = y_train[class_indices]\n",
        "\n",
        "# Randomly select a subset of around 100 images\n",
        "subset_size = 100\n",
        "random_indices = np.random.choice(X_train.shape[0], size=subset_size, replace=False)\n",
        "X_train = X_train[random_indices]\n",
        "y_train = y_train[random_indices]\n",
        "\n",
        "# Apply PCA for dimensionality reduction to 4 features\n",
        "pca = PCA(n_components=4)\n",
        "X_train = pca.fit_transform(X_train)\n",
        "\n",
        "# Normalize the data\n",
        "X_train = MinMaxScaler(feature_range=(0, np.pi)).fit_transform(X_train)\n",
        "\n",
        "# Split the data into train and validation\n",
        "X_train, X_validation, y_train, y_validation = train_test_split(X_train, y_train, test_size=0.2)\n",
        "n_qubits = X_train.shape[1]\n"
      ],
      "metadata": {
        "id": "EWkEcZtv3e7u",
        "colab": {
          "base_uri": "https://localhost:8080/"
        },
        "outputId": "fe3bc7c6-1ef0-42c9-9cf0-c28d67ef389f"
      },
      "execution_count": null,
      "outputs": [
        {
          "output_type": "stream",
          "name": "stdout",
          "text": [
            "Downloading data from https://www.cs.toronto.edu/~kriz/cifar-10-python.tar.gz\n",
            "170498071/170498071 [==============================] - 3s 0us/step\n"
          ]
        }
      ]
    },
    {
      "cell_type": "markdown",
      "source": [
        "Model Defining"
      ],
      "metadata": {
        "id": "tK7DNaM2Ffou"
      }
    },
    {
      "cell_type": "code",
      "source": [
        "# Define the quantum device\n",
        "dev = qml.device(\"default.qubit\", wires=n_qubits)\n",
        "\n",
        "# Quantum circuit\n",
        "@qml.qnode(dev)\n",
        "def circuit(weights, x=None):\n",
        "    qml.templates.AngleEmbedding(x, wires=range(n_qubits))\n",
        "    qml.templates.StronglyEntanglingLayers(weights, wires=range(n_qubits))\n",
        "    return qml.expval(qml.PauliZ(0))\n",
        "\n",
        "# Variational quantum classifier\n",
        "def variational_classifier(theta, x=None):\n",
        "    weights = theta[0]\n",
        "    bias = theta[1]\n",
        "    return circuit(weights, x=x) + bias\n",
        "\n",
        "# Cost function\n",
        "def cost(theta, X, expectations):\n",
        "    e_predicted = np.array([variational_classifier(theta, x=x) for x in X])\n",
        "    loss = np.mean((e_predicted - expectations) ** 2)\n",
        "    return loss\n"
      ],
      "metadata": {
        "id": "RHgcZb3m3jn_"
      },
      "execution_count": null,
      "outputs": []
    },
    {
      "cell_type": "markdown",
      "source": [
        "Optimisation"
      ],
      "metadata": {
        "id": "sK8o8NWFFh4H"
      }
    },
    {
      "cell_type": "code",
      "source": [
        "# Generate random initial weights for the quantum circuit\n",
        "n_layers = 3\n",
        "np.random.seed(42)\n",
        "theta_weights = np.random.uniform(0, 2 * np.pi, size=(n_layers, n_qubits, 3))\n",
        "theta_bias = 0.0\n",
        "theta_init = (theta_weights, theta_bias)\n",
        "# Define the mutation function for evolutionary optimization\n",
        "def mutate(theta, mutation_rate):\n",
        "    # Convert theta to a list for mutation\n",
        "    theta_list = list(theta)\n",
        "    mutated_theta = theta_list.copy()\n",
        "    for i in range(len(theta_list[0])):\n",
        "        if np.random.rand() < mutation_rate:\n",
        "            mutated_theta[0][i] = np.random.uniform(0, 2 * np.pi)\n",
        "    # Convert mutated_theta back to a tuple\n",
        "    mutated_theta = (mutated_theta[0], mutated_theta[1])\n",
        "    return mutated_theta\n",
        "\n",
        "\n",
        "# Lists to store data for plotting\n",
        "losses = []\n",
        "best_losses = []\n",
        "best_thetas = []\n",
        "\n",
        "# Set the hyperparameters\n",
        "population_size = 50\n",
        "mutation_rate = 0.01\n",
        "num_epochs = 20\n",
        "\n",
        "# Optimize the weights\n",
        "best_theta = theta_init  # Initialize best_theta\n",
        "best_loss = cost(best_theta, X_train, y_train)  # Initialize best_loss\n",
        "\n",
        "for epoch in range(num_epochs):\n",
        "    print(\"Generation:\", epoch)\n",
        "    new_population = []\n",
        "\n",
        "    for _ in range(population_size):\n",
        "        mutated_theta = mutate(best_theta, mutation_rate)\n",
        "        loss = cost(mutated_theta, X_train, y_train)\n",
        "\n",
        "        if loss < best_loss:\n",
        "            best_theta = mutated_theta\n",
        "            best_loss = loss\n",
        "\n",
        "        new_population.append((mutated_theta, loss))\n",
        "\n",
        "    print(\"Best Loss in Generation {}: {}\".format(epoch, best_loss))\n",
        "\n",
        "    # Store data for plotting\n",
        "    best_losses.append(best_loss)\n",
        "    losses.append([loss for _, loss in new_population])\n",
        "    best_thetas.append(best_theta)\n",
        "\n",
        "# Final loss and final theta\n",
        "final_loss = best_loss\n",
        "final_theta = best_theta\n",
        "\n",
        "# Print the final results\n",
        "print(\"Final Loss:\", final_loss)\n",
        "print(\"Final Theta:\", final_theta)\n",
        "\n",
        "\n",
        "\n",
        "# Predict with optimized weights on validation data\n",
        "e_predicted_validation = np.array([variational_classifier(final_theta, x=x) for x in X_validation])\n",
        "\n",
        "# Convert expectations to classes\n",
        "prob_class_one = (e_predicted_validation + 1.0) / 2.0\n",
        "y_pred_validation = (prob_class_one >= 0.5)\n",
        "\n",
        "# Calculate accuracy on the validation data\n",
        "validation_accuracy = accuracy_score(y_validation, y_pred_validation)\n",
        "\n",
        "print(\"Validation Accuracy:\", validation_accuracy)\n"
      ],
      "metadata": {
        "colab": {
          "base_uri": "https://localhost:8080/"
        },
        "id": "gv6RM_VT3qQE",
        "outputId": "97432f82-9ce4-4de6-ebdc-ace72a94a077"
      },
      "execution_count": null,
      "outputs": [
        {
          "output_type": "stream",
          "name": "stdout",
          "text": [
            "Generation: 0\n",
            "Best Loss in Generation 0: 0.28332708129974976\n",
            "Generation: 1\n",
            "Best Loss in Generation 1: 0.28332708129974976\n",
            "Generation: 2\n",
            "Best Loss in Generation 2: 0.28332708129974976\n",
            "Generation: 3\n",
            "Best Loss in Generation 3: 0.28332708129974976\n",
            "Generation: 4\n",
            "Best Loss in Generation 4: 0.28332708129974976\n",
            "Generation: 5\n",
            "Best Loss in Generation 5: 0.28332708129974976\n",
            "Generation: 6\n",
            "Best Loss in Generation 6: 0.28332708129974976\n",
            "Generation: 7\n",
            "Best Loss in Generation 7: 0.28332708129974976\n",
            "Generation: 8\n",
            "Best Loss in Generation 8: 0.28332708129974976\n",
            "Generation: 9\n",
            "Best Loss in Generation 9: 0.28332708129974976\n",
            "Generation: 10\n",
            "Best Loss in Generation 10: 0.28332708129974976\n",
            "Generation: 11\n",
            "Best Loss in Generation 11: 0.28332708129974976\n",
            "Generation: 12\n",
            "Best Loss in Generation 12: 0.28332708129974976\n",
            "Generation: 13\n",
            "Best Loss in Generation 13: 0.28332708129974976\n",
            "Generation: 14\n",
            "Best Loss in Generation 14: 0.28332708129974976\n",
            "Generation: 15\n",
            "Best Loss in Generation 15: 0.28332708129974976\n",
            "Generation: 16\n",
            "Best Loss in Generation 16: 0.28332708129974976\n",
            "Generation: 17\n",
            "Best Loss in Generation 17: 0.28332708129974976\n",
            "Generation: 18\n",
            "Best Loss in Generation 18: 0.28332708129974976\n",
            "Generation: 19\n",
            "Best Loss in Generation 19: 0.28332708129974976\n",
            "Final Loss: 0.28332708129974976\n",
            "Final Theta: (array([[[3.7008809 , 3.7008809 , 3.7008809 ],\n",
            "        [3.7008809 , 3.7008809 , 3.7008809 ],\n",
            "        [3.7008809 , 3.7008809 , 3.7008809 ],\n",
            "        [3.7008809 , 3.7008809 , 3.7008809 ]],\n",
            "\n",
            "       [[2.73087669, 2.73087669, 2.73087669],\n",
            "        [2.73087669, 2.73087669, 2.73087669],\n",
            "        [2.73087669, 2.73087669, 2.73087669],\n",
            "        [2.73087669, 2.73087669, 2.73087669]],\n",
            "\n",
            "       [[0.20990421, 0.20990421, 0.20990421],\n",
            "        [0.20990421, 0.20990421, 0.20990421],\n",
            "        [0.20990421, 0.20990421, 0.20990421],\n",
            "        [0.20990421, 0.20990421, 0.20990421]]]), 0.0)\n",
            "Validation Accuracy: 0.65\n"
          ]
        }
      ]
    },
    {
      "cell_type": "code",
      "source": [
        "# Visualize changes\n",
        "plt.figure(figsize=(12, 6))\n",
        "plt.subplot(2, 1, 1)\n",
        "plt.plot(best_losses, label=\"Best Loss\")\n",
        "plt.xlabel(\"Generation\")\n",
        "plt.ylabel(\"Loss\")\n",
        "plt.legend()\n"
      ],
      "metadata": {
        "colab": {
          "base_uri": "https://localhost:8080/",
          "height": 308
        },
        "id": "zA50zaIz37AZ",
        "outputId": "616898c8-2d25-431a-ac64-028973171b4c"
      },
      "execution_count": null,
      "outputs": [
        {
          "output_type": "execute_result",
          "data": {
            "text/plain": [
              "<matplotlib.legend.Legend at 0x7a19d10cd6c0>"
            ]
          },
          "metadata": {},
          "execution_count": 8
        },
        {
          "output_type": "display_data",
          "data": {
            "text/plain": [
              "<Figure size 1200x600 with 1 Axes>"
            ],
            "image/png": "[encoded data removed]"
          },
          "metadata": {}
        }
      ]
    },
    {
      "cell_type": "code",
      "source": [
        "plt.subplot(2, 1, 2)\n",
        "plt.plot(losses)\n",
        "plt.xlabel(\"Generation\")\n",
        "plt.ylabel(\"Loss\")\n",
        "plt.title(\"Loss for Each Individual\")\n",
        "plt.show()\n"
      ],
      "metadata": {
        "colab": {
          "base_uri": "https://localhost:8080/",
          "height": 270
        },
        "id": "YO4zDyjZ366b",
        "outputId": "f809aac5-d66d-47b9-903e-1250a130efe4"
      },
      "execution_count": null,
      "outputs": [
        {
          "output_type": "display_data",
          "data": {
            "text/plain": [
              "<Figure size 640x480 with 1 Axes>"
            ],
            "image/png": "[encoded data removed]"
          },
          "metadata": {}
        }
      ]
    }
  ]
}