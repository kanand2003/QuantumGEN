{
  "nbformat": 4,
  "nbformat_minor": 0,
  "metadata": {
    "colab": {
      "provenance": []
    },
    "kernelspec": {
      "name": "python3",
      "display_name": "Python 3"
    },
    "language_info": {
      "name": "python"
    }
  },
  "cells": [
    {
      "cell_type": "markdown",
      "source": [
        "Here we are using VQC(variational Quantum Classifier) along as a QML model for binary classification of image dataset. For the hyperparameter optimisation genetic programming using mutation is used."
      ],
      "metadata": {
        "id": "TPWOlY9rFJGz"
      }
    },
    {
      "cell_type": "markdown",
      "source": [
        "Importing Pennylane"
      ],
      "metadata": {
        "id": "-dQdz2i5FX5_"
      }
    },
    {
      "cell_type": "code",
      "execution_count": 1,
      "metadata": {
        "colab": {
          "base_uri": "https://localhost:8080/"
        },
        "id": "ylOQzude0UVN",
        "outputId": "f8aeef1c-79be-4e59-bcab-ee3742581e9c"
      },
      "outputs": [
        {
          "output_type": "stream",
          "name": "stdout",
          "text": [
            "Collecting pennylane\n",
            "  Downloading PennyLane-0.33.0-py3-none-any.whl (1.5 MB)\n",
            "\u001b[2K     \u001b[90m━━━━━━━━━━━━━━━━━━━━━━━━━━━━━━━━━━━━━━━━\u001b[0m \u001b[32m1.5/1.5 MB\u001b[0m \u001b[31m8.5 MB/s\u001b[0m eta \u001b[36m0:00:00\u001b[0m\n",
            "\u001b[?25hRequirement already satisfied: numpy in /usr/local/lib/python3.10/dist-packages (from pennylane) (1.23.5)\n",
            "Requirement already satisfied: scipy in /usr/local/lib/python3.10/dist-packages (from pennylane) (1.11.3)\n",
            "Requirement already satisfied: networkx in /usr/local/lib/python3.10/dist-packages (from pennylane) (3.2)\n",
            "Collecting rustworkx (from pennylane)\n",
            "  Downloading rustworkx-0.13.2-cp310-cp310-manylinux_2_17_x86_64.manylinux2014_x86_64.whl (2.0 MB)\n",
            "\u001b[2K     \u001b[90m━━━━━━━━━━━━━━━━━━━━━━━━━━━━━━━━━━━━━━━━\u001b[0m \u001b[32m2.0/2.0 MB\u001b[0m \u001b[31m16.0 MB/s\u001b[0m eta \u001b[36m0:00:00\u001b[0m\n",
            "\u001b[?25hRequirement already satisfied: autograd in /usr/local/lib/python3.10/dist-packages (from pennylane) (1.6.2)\n",
            "Requirement already satisfied: toml in /usr/local/lib/python3.10/dist-packages (from pennylane) (0.10.2)\n",
            "Requirement already satisfied: appdirs in /usr/local/lib/python3.10/dist-packages (from pennylane) (1.4.4)\n",
            "Collecting semantic-version>=2.7 (from pennylane)\n",
            "  Downloading semantic_version-2.10.0-py2.py3-none-any.whl (15 kB)\n",
            "Collecting autoray>=0.6.1 (from pennylane)\n",
            "  Downloading autoray-0.6.7-py3-none-any.whl (49 kB)\n",
            "\u001b[2K     \u001b[90m━━━━━━━━━━━━━━━━━━━━━━━━━━━━━━━━━━━━━━━━\u001b[0m \u001b[32m49.9/49.9 kB\u001b[0m \u001b[31m7.1 MB/s\u001b[0m eta \u001b[36m0:00:00\u001b[0m\n",
            "\u001b[?25hRequirement already satisfied: cachetools in /usr/local/lib/python3.10/dist-packages (from pennylane) (5.3.2)\n",
            "Collecting pennylane-lightning>=0.33 (from pennylane)\n",
            "  Downloading PennyLane_Lightning-0.33.1-cp310-cp310-manylinux_2_17_x86_64.manylinux2014_x86_64.whl (14.0 MB)\n",
            "\u001b[2K     \u001b[90m━━━━━━━━━━━━━━━━━━━━━━━━━━━━━━━━━━━━━━━━\u001b[0m \u001b[32m14.0/14.0 MB\u001b[0m \u001b[31m40.1 MB/s\u001b[0m eta \u001b[36m0:00:00\u001b[0m\n",
            "\u001b[?25hRequirement already satisfied: requests in /usr/local/lib/python3.10/dist-packages (from pennylane) (2.31.0)\n",
            "Requirement already satisfied: typing-extensions in /usr/local/lib/python3.10/dist-packages (from pennylane) (4.5.0)\n",
            "Requirement already satisfied: future>=0.15.2 in /usr/local/lib/python3.10/dist-packages (from autograd->pennylane) (0.18.3)\n",
            "Requirement already satisfied: charset-normalizer<4,>=2 in /usr/local/lib/python3.10/dist-packages (from requests->pennylane) (3.3.1)\n",
            "Requirement already satisfied: idna<4,>=2.5 in /usr/local/lib/python3.10/dist-packages (from requests->pennylane) (3.4)\n",
            "Requirement already satisfied: urllib3<3,>=1.21.1 in /usr/local/lib/python3.10/dist-packages (from requests->pennylane) (2.0.7)\n",
            "Requirement already satisfied: certifi>=2017.4.17 in /usr/local/lib/python3.10/dist-packages (from requests->pennylane) (2023.7.22)\n",
            "Installing collected packages: semantic-version, rustworkx, autoray, pennylane-lightning, pennylane\n",
            "Successfully installed autoray-0.6.7 pennylane-0.33.0 pennylane-lightning-0.33.1 rustworkx-0.13.2 semantic-version-2.10.0\n"
          ]
        }
      ],
      "source": [
        "!pip install pennylane"
      ]
    },
    {
      "cell_type": "code",
      "source": [
        "import numpy as np\n",
        "from sklearn.datasets import load_iris\n",
        "from sklearn.utils import shuffle\n",
        "from sklearn.model_selection import train_test_split\n",
        "from sklearn.metrics import accuracy_score\n",
        "import pennylane as qml\n",
        "import matplotlib.pyplot as plt\n",
        "from keras.datasets import cifar10\n",
        "from sklearn.decomposition import PCA\n",
        "from sklearn.preprocessing import MinMaxScaler"
      ],
      "metadata": {
        "id": "yVk1Qi0U0XJu"
      },
      "execution_count": 2,
      "outputs": []
    },
    {
      "cell_type": "markdown",
      "source": [
        "Importing Cifar10 dataset"
      ],
      "metadata": {
        "id": "kCVcm34mFaa3"
      }
    },
    {
      "cell_type": "code",
      "source": [
        "# Load the CIFAR-10 dataset using Keras\n",
        "(X_train, y_train), (X_test, y_test) = cifar10.load_data()\n",
        "\n",
        "# Flatten the CIFAR-10 images (32x32x3) into a feature vector\n",
        "X_train = X_train.reshape(X_train.shape[0], -1)\n",
        "X_test = X_test.reshape(X_test.shape[0], -1)\n",
        "\n",
        "# Select only the first two classes (e.g., 'airplane' and 'automobile')\n",
        "class_indices = (y_train.squeeze() == 0) | (y_train.squeeze() == 1)\n",
        "X_train = X_train[class_indices]\n",
        "y_train = y_train[class_indices]\n",
        "\n",
        "# Randomly select a subset of around 100 images\n",
        "subset_size = 100\n",
        "random_indices = np.random.choice(X_train.shape[0], size=subset_size, replace=False)\n",
        "X_train = X_train[random_indices]\n",
        "y_train = y_train[random_indices]\n",
        "\n",
        "# Apply PCA for dimensionality reduction to 4 features\n",
        "pca = PCA(n_components=4)\n",
        "X_train = pca.fit_transform(X_train)\n",
        "\n",
        "# Normalize the data\n",
        "X_train = MinMaxScaler(feature_range=(0, np.pi)).fit_transform(X_train)\n",
        "\n",
        "# Split the data into train and validation\n",
        "X_train, X_validation, y_train, y_validation = train_test_split(X_train, y_train, test_size=0.2)\n",
        "n_qubits = X_train.shape[1]\n"
      ],
      "metadata": {
        "id": "EWkEcZtv3e7u",
        "colab": {
          "base_uri": "https://localhost:8080/"
        },
        "outputId": "595cf894-5429-45eb-9bfa-dcf658edddc2"
      },
      "execution_count": 3,
      "outputs": [
        {
          "output_type": "stream",
          "name": "stdout",
          "text": [
            "Downloading data from https://www.cs.toronto.edu/~kriz/cifar-10-python.tar.gz\n",
            "170498071/170498071 [==============================] - 3s 0us/step\n"
          ]
        }
      ]
    },
    {
      "cell_type": "markdown",
      "source": [
        "Model Defining"
      ],
      "metadata": {
        "id": "tK7DNaM2Ffou"
      }
    },
    {
      "cell_type": "code",
      "source": [
        "# Define the quantum device\n",
        "dev = qml.device(\"default.qubit\", wires=n_qubits)\n",
        "\n",
        "# Quantum circuit\n",
        "@qml.qnode(dev)\n",
        "def circuit(weights, x=None):\n",
        "    qml.templates.AngleEmbedding(x, wires=range(n_qubits))\n",
        "    qml.templates.StronglyEntanglingLayers(weights, wires=range(n_qubits))\n",
        "    return qml.expval(qml.PauliZ(0))\n",
        "\n",
        "# Variational quantum classifier\n",
        "def variational_classifier(theta, x=None):\n",
        "    weights = theta[0]\n",
        "    bias = theta[1]\n",
        "    return circuit(weights, x=x) + bias\n",
        "\n",
        "# Cost function\n",
        "def cost(theta, X, expectations):\n",
        "    e_predicted = np.array([variational_classifier(theta, x=x) for x in X])\n",
        "    loss = np.mean((e_predicted - expectations) ** 2)\n",
        "    return loss\n"
      ],
      "metadata": {
        "id": "RHgcZb3m3jn_"
      },
      "execution_count": 4,
      "outputs": []
    },
    {
      "cell_type": "markdown",
      "source": [
        "Optimisation"
      ],
      "metadata": {
        "id": "sK8o8NWFFh4H"
      }
    },
    {
      "cell_type": "code",
      "source": [
        "# Generate random initial weights for the quantum circuit\n",
        "n_layers = 3\n",
        "np.random.seed(42)\n",
        "theta_weights = np.random.uniform(0, 2 * np.pi, size=(n_layers, n_qubits, 3))\n",
        "theta_bias = 0.0\n",
        "theta_init = (theta_weights, theta_bias)\n",
        "# Define the mutation function for evolutionary optimization\n",
        "def mutate(theta, mutation_rate):\n",
        "    # Convert theta to a list for mutation\n",
        "    theta_list = list(theta)\n",
        "    mutated_theta = theta_list.copy()\n",
        "    for i in range(len(theta_list[0])):\n",
        "        if np.random.rand() < mutation_rate:\n",
        "            mutated_theta[0][i] = np.random.uniform(0, 2 * np.pi)\n",
        "    # Convert mutated_theta back to a tuple\n",
        "    mutated_theta = (mutated_theta[0], mutated_theta[1])\n",
        "    return mutated_theta\n",
        "\n",
        "\n",
        "# Lists to store data for plotting\n",
        "losses = []\n",
        "best_losses = []\n",
        "best_thetas = []\n",
        "\n",
        "# Set the hyperparameters\n",
        "population_size = 50\n",
        "mutation_rate = 0.01\n",
        "num_epochs = 20\n",
        "\n",
        "# Optimize the weights\n",
        "best_theta = theta_init  # Initialize best_theta\n",
        "best_loss = cost(best_theta, X_train, y_train)  # Initialize best_loss\n",
        "\n",
        "for epoch in range(num_epochs):\n",
        "    print(\"Generation:\", epoch)\n",
        "    new_population = []\n",
        "\n",
        "    for _ in range(population_size):\n",
        "        mutated_theta = mutate(best_theta, mutation_rate)\n",
        "        loss = cost(mutated_theta, X_train, y_train)\n",
        "\n",
        "        if loss < best_loss:\n",
        "            best_theta = mutated_theta\n",
        "            best_loss = loss\n",
        "\n",
        "        new_population.append((mutated_theta, loss))\n",
        "\n",
        "    print(\"Best Loss in Generation {}: {}\".format(epoch, best_loss))\n",
        "\n",
        "    # Store data for plotting\n",
        "    best_losses.append(best_loss)\n",
        "    losses.append([loss for _, loss in new_population])\n",
        "    best_thetas.append(best_theta)\n",
        "\n",
        "# Final loss and final theta\n",
        "final_loss = best_loss\n",
        "final_theta = best_theta\n",
        "\n",
        "# Print the final results\n",
        "print(\"Final Loss:\", final_loss)\n",
        "print(\"Final Theta:\", final_theta)\n",
        "\n",
        "\n",
        "\n",
        "# Predict with optimized weights on validation data\n",
        "e_predicted_validation = np.array([variational_classifier(final_theta, x=x) for x in X_validation])\n",
        "\n",
        "# Convert expectations to classes\n",
        "prob_class_one = (e_predicted_validation + 1.0) / 2.0\n",
        "y_pred_validation = (prob_class_one >= 0.5)\n",
        "\n",
        "# Calculate accuracy on the validation data\n",
        "validation_accuracy = accuracy_score(y_validation, y_pred_validation)\n",
        "\n",
        "print(\"Validation Accuracy:\", validation_accuracy)\n"
      ],
      "metadata": {
        "colab": {
          "base_uri": "https://localhost:8080/"
        },
        "id": "gv6RM_VT3qQE",
        "outputId": "7009a5be-e63e-4f12-9da1-bc681ac5decc"
      },
      "execution_count": 5,
      "outputs": [
        {
          "output_type": "stream",
          "name": "stdout",
          "text": [
            "Generation: 0\n",
            "Best Loss in Generation 0: 0.6729339764632573\n",
            "Generation: 1\n",
            "Best Loss in Generation 1: 0.6729339764632573\n",
            "Generation: 2\n",
            "Best Loss in Generation 2: 0.6729339764632573\n",
            "Generation: 3\n",
            "Best Loss in Generation 3: 0.6729339764632573\n",
            "Generation: 4\n",
            "Best Loss in Generation 4: 0.6729339764632573\n",
            "Generation: 5\n",
            "Best Loss in Generation 5: 0.6301947107840327\n",
            "Generation: 6\n",
            "Best Loss in Generation 6: 0.6301947107840327\n",
            "Generation: 7\n",
            "Best Loss in Generation 7: 0.6301947107840327\n",
            "Generation: 8\n",
            "Best Loss in Generation 8: 0.6301947107840327\n",
            "Generation: 9\n",
            "Best Loss in Generation 9: 0.36194628658488964\n",
            "Generation: 10\n",
            "Best Loss in Generation 10: 0.36194628658488964\n",
            "Generation: 11\n",
            "Best Loss in Generation 11: 0.36194628658488964\n",
            "Generation: 12\n",
            "Best Loss in Generation 12: 0.36194628658488964\n",
            "Generation: 13\n",
            "Best Loss in Generation 13: 0.36194628658488964\n",
            "Generation: 14\n",
            "Best Loss in Generation 14: 0.36194628658488964\n",
            "Generation: 15\n",
            "Best Loss in Generation 15: 0.36194628658488964\n",
            "Generation: 16\n",
            "Best Loss in Generation 16: 0.36194628658488964\n",
            "Generation: 17\n",
            "Best Loss in Generation 17: 0.36194628658488964\n",
            "Generation: 18\n",
            "Best Loss in Generation 18: 0.36194628658488964\n",
            "Generation: 19\n",
            "Best Loss in Generation 19: 0.36194628658488964\n",
            "Final Loss: 0.36194628658488964\n",
            "Final Theta: (array([[[2.24328153, 2.24328153, 2.24328153],\n",
            "        [2.24328153, 2.24328153, 2.24328153],\n",
            "        [2.24328153, 2.24328153, 2.24328153],\n",
            "        [2.24328153, 2.24328153, 2.24328153]],\n",
            "\n",
            "       [[4.58260849, 4.58260849, 4.58260849],\n",
            "        [4.58260849, 4.58260849, 4.58260849],\n",
            "        [4.58260849, 4.58260849, 4.58260849],\n",
            "        [4.58260849, 4.58260849, 4.58260849]],\n",
            "\n",
            "       [[2.61736029, 2.61736029, 2.61736029],\n",
            "        [2.61736029, 2.61736029, 2.61736029],\n",
            "        [2.61736029, 2.61736029, 2.61736029],\n",
            "        [2.61736029, 2.61736029, 2.61736029]]]), 0.0)\n",
            "Validation Accuracy: 0.45\n"
          ]
        }
      ]
    },
    {
      "cell_type": "code",
      "source": [
        "# Visualize changes\n",
        "plt.figure(figsize=(12, 6))\n",
        "plt.subplot(2, 1, 1)\n",
        "plt.plot(best_losses, label=\"Best Loss\")\n",
        "plt.xlabel(\"Generation\")\n",
        "plt.ylabel(\"Loss\")\n",
        "plt.legend()\n"
      ],
      "metadata": {
        "colab": {
          "base_uri": "https://localhost:8080/",
          "height": 308
        },
        "id": "zA50zaIz37AZ",
        "outputId": "2f80fa99-a570-4e21-ff19-17bd90358d57"
      },
      "execution_count": 6,
      "outputs": [
        {
          "output_type": "execute_result",
          "data": {
            "text/plain": [
              "<matplotlib.legend.Legend at 0x7d66ed910790>"
            ]
          },
          "metadata": {},
          "execution_count": 6
        },
        {
          "output_type": "display_data",
          "data": {
            "text/plain": [
              "<Figure size 1200x600 with 1 Axes>"
            ],
            "image/png": "[encoded data removed]"
          },
          "metadata": {}
        }
      ]
    },
    {
      "cell_type": "code",
      "source": [
        "plt.subplot(2, 1, 2)\n",
        "plt.plot(losses)\n",
        "plt.xlabel(\"Generation\")\n",
        "plt.ylabel(\"Loss\")\n",
        "plt.title(\"Loss for Each Individual\")\n",
        "plt.show()\n"
      ],
      "metadata": {
        "colab": {
          "base_uri": "https://localhost:8080/",
          "height": 270
        },
        "id": "YO4zDyjZ366b",
        "outputId": "312b3d12-f2f8-40b8-a94f-6a7dc381ee1e"
      },
      "execution_count": 7,
      "outputs": [
        {
          "output_type": "display_data",
          "data": {
            "text/plain": [
              "<Figure size 640x480 with 1 Axes>"
            ],
            "image/png": "[encoded data removed]"
          },
          "metadata": {}
        }
      ]
    }
  ]
}